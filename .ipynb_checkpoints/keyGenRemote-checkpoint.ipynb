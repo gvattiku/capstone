{
 "cells": [
  {
   "cell_type": "code",
   "execution_count": 1,
   "metadata": {},
   "outputs": [],
   "source": [
    "import pandas as pd\n",
    "import hashlib, binascii\n",
    "import os"
   ]
  },
  {
   "cell_type": "code",
   "execution_count": 18,
   "metadata": {},
   "outputs": [],
   "source": [
    "password = \"\""
   ]
  },
  {
   "cell_type": "code",
   "execution_count": 56,
   "metadata": {},
   "outputs": [],
   "source": [
    "os.getcwd()\n",
    "os.chdir('/media/r00t/86DF-E117/Data/Input')"
   ]
  },
  {
   "cell_type": "code",
   "execution_count": 61,
   "metadata": {},
   "outputs": [],
   "source": [
    "def hashKey(data):\n",
    "    global password\n",
    "    keyGen = hashlib.pbkdf2_hmac('md5', data.encode('utf-8'), password.encode('utf-8'), 100000)\n",
    "    return binascii.hexlify(keyGen)"
   ]
  },
  {
   "cell_type": "code",
   "execution_count": 57,
   "metadata": {},
   "outputs": [
    {
     "data": {
      "text/plain": [
       "['Input', 'Keys', 'Output']"
      ]
     },
     "execution_count": 57,
     "metadata": {},
     "output_type": "execute_result"
    }
   ],
   "source": [
    "root = '/media/r00t/86DF-E117/Data'\n",
    "os.listdir(root)"
   ]
  },
  {
   "cell_type": "code",
   "execution_count": 64,
   "metadata": {
    "scrolled": true
   },
   "outputs": [
    {
     "name": "stdout",
     "output_type": "stream",
     "text": [
      "s003.csv\n",
      "s004.csv\n",
      "s002.csv\n",
      "s001.csv\n",
      "s006.csv\n",
      "s005.csv\n",
      "s009.csv\n",
      "s008.csv\n",
      "s010.csv\n",
      "s007.csv\n"
     ]
    }
   ],
   "source": [
    "for file in os.listdir(root + '/' + 'Input'):\n",
    "    if not file.startswith('.'):\n",
    "        df = pd.read_csv(file)\n",
    "        df['Key'] = df['Username'].apply(hashKey)\n",
    "        df['Section Code'] = file\n",
    "        dfKeyMap = df[['Key', 'Username']]\n",
    "        dfKeyMap.drop_duplicates(subset = 'Username', keep = 'last')\n",
    "    \n",
    "    df = df.drop(df.columns[[0, 1, 2, 3, 4, 5]], axis =1)\n",
    "    df.to_csv('/media/r00t/86DF-E117/Data/Output/' + \"ad\"+file)\n",
    "    \n",
    "dfKeyMap.to_csv('/media/r00t/86DF-E117/Data/Keys/' + 'studentKeys.csv', index = False)"
   ]
  }
 ],
 "metadata": {
  "kernelspec": {
   "display_name": "Python 3",
   "language": "python",
   "name": "python3"
  },
  "language_info": {
   "codemirror_mode": {
    "name": "ipython",
    "version": 3
   },
   "file_extension": ".py",
   "mimetype": "text/x-python",
   "name": "python",
   "nbconvert_exporter": "python",
   "pygments_lexer": "ipython3",
   "version": "3.6.8"
  }
 },
 "nbformat": 4,
 "nbformat_minor": 2
}
