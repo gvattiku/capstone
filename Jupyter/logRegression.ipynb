{
 "cells": [
  {
   "cell_type": "code",
   "execution_count": 35,
   "metadata": {},
   "outputs": [],
   "source": [
    "import numpy as np\n",
    "import pandas as pd \n",
    "from sklearn.preprocessing import LabelEncoder\n",
    "from sklearn.model_selection import train_test_split\n",
    "from sklearn.linear_model import LogisticRegression\n",
    "from sklearn.metrics import confusion_matrix, classification_report, accuracy_score"
   ]
  },
  {
   "cell_type": "code",
   "execution_count": 12,
   "metadata": {},
   "outputs": [],
   "source": [
    "import os\n",
    "root = r'C:\\Users\\vatti\\OneDrive\\Documents\\Misc\\Data\\Capstone'"
   ]
  },
  {
   "cell_type": "code",
   "execution_count": 17,
   "metadata": {
    "scrolled": true
   },
   "outputs": [
    {
     "data": {
      "text/html": [
       "<div>\n",
       "<style scoped>\n",
       "    .dataframe tbody tr th:only-of-type {\n",
       "        vertical-align: middle;\n",
       "    }\n",
       "\n",
       "    .dataframe tbody tr th {\n",
       "        vertical-align: top;\n",
       "    }\n",
       "\n",
       "    .dataframe thead th {\n",
       "        text-align: right;\n",
       "    }\n",
       "</style>\n",
       "<table border=\"1\" class=\"dataframe\">\n",
       "  <thead>\n",
       "    <tr style=\"text-align: right;\">\n",
       "      <th></th>\n",
       "      <th>gender</th>\n",
       "      <th>Degree</th>\n",
       "      <th>CourseLoad</th>\n",
       "      <th>PreReqSatisfied</th>\n",
       "      <th>StudentYear</th>\n",
       "      <th>Class</th>\n",
       "    </tr>\n",
       "  </thead>\n",
       "  <tbody>\n",
       "    <tr>\n",
       "      <th>0</th>\n",
       "      <td>M</td>\n",
       "      <td>IT</td>\n",
       "      <td>4</td>\n",
       "      <td>Y</td>\n",
       "      <td>Sophmores</td>\n",
       "      <td>Pass</td>\n",
       "    </tr>\n",
       "    <tr>\n",
       "      <th>1</th>\n",
       "      <td>F</td>\n",
       "      <td>IT</td>\n",
       "      <td>4</td>\n",
       "      <td>Y</td>\n",
       "      <td>Sophmores</td>\n",
       "      <td>Pass</td>\n",
       "    </tr>\n",
       "    <tr>\n",
       "      <th>2</th>\n",
       "      <td>M</td>\n",
       "      <td>IT</td>\n",
       "      <td>5</td>\n",
       "      <td>Y</td>\n",
       "      <td>Sophmores</td>\n",
       "      <td>Pass</td>\n",
       "    </tr>\n",
       "    <tr>\n",
       "      <th>3</th>\n",
       "      <td>F</td>\n",
       "      <td>IT</td>\n",
       "      <td>5</td>\n",
       "      <td>Y</td>\n",
       "      <td>Sophmores</td>\n",
       "      <td>Pass</td>\n",
       "    </tr>\n",
       "    <tr>\n",
       "      <th>4</th>\n",
       "      <td>M</td>\n",
       "      <td>IT</td>\n",
       "      <td>5</td>\n",
       "      <td>Y</td>\n",
       "      <td>Sophmores</td>\n",
       "      <td>Pass</td>\n",
       "    </tr>\n",
       "  </tbody>\n",
       "</table>\n",
       "</div>"
      ],
      "text/plain": [
       "  gender Degree  CourseLoad PreReqSatisfied StudentYear Class\n",
       "0      M     IT           4               Y   Sophmores  Pass\n",
       "1      F     IT           4               Y   Sophmores  Pass\n",
       "2      M     IT           5               Y   Sophmores  Pass\n",
       "3      F     IT           5               Y   Sophmores  Pass\n",
       "4      M     IT           5               Y   Sophmores  Pass"
      ]
     },
     "execution_count": 17,
     "metadata": {},
     "output_type": "execute_result"
    }
   ],
   "source": [
    "df = pd.read_csv(root  + '\\data.csv')\n",
    "df.head()"
   ]
  },
  {
   "cell_type": "code",
   "execution_count": 19,
   "metadata": {},
   "outputs": [],
   "source": [
    "X = df.drop('Class', axis=1)\n",
    "y = df['Class']"
   ]
  },
  {
   "cell_type": "code",
   "execution_count": 36,
   "metadata": {},
   "outputs": [],
   "source": [
    "labelEncoder = LabelEncoder()\n",
    "\n",
    "cat_columns = X.dtypes.pipe(lambda x: x[x == 'object']).index\n",
    "\n",
    "for col in cat_columns:\n",
    "    X[col] = labelEncoder.fit_transform(X[col])\n",
    "\n",
    "X_train, X_test, y_train, y_test = train_test_split(X, y, test_size=0.3, random_state=50)"
   ]
  },
  {
   "cell_type": "code",
   "execution_count": 37,
   "metadata": {},
   "outputs": [
    {
     "name": "stdout",
     "output_type": "stream",
     "text": [
      "Results;\n",
      "\n",
      "Confusion Matrix;\n",
      "\n",
      "[[  0  13]\n",
      " [  0 131]]\n",
      "\n",
      "Report;\n",
      "\n",
      "              precision    recall  f1-score   support\n",
      "\n",
      "        Fail       0.00      0.00      0.00        13\n",
      "        Pass       0.91      1.00      0.95       131\n",
      "\n",
      "   micro avg       0.91      0.91      0.91       144\n",
      "   macro avg       0.45      0.50      0.48       144\n",
      "weighted avg       0.83      0.91      0.87       144\n",
      "\n",
      "Accuracy: 0.9097222222222222\n"
     ]
    },
    {
     "name": "stderr",
     "output_type": "stream",
     "text": [
      "c:\\users\\vatti\\appdata\\local\\programs\\python\\python37\\lib\\site-packages\\sklearn\\linear_model\\logistic.py:433: FutureWarning: Default solver will be changed to 'lbfgs' in 0.22. Specify a solver to silence this warning.\n",
      "  FutureWarning)\n",
      "c:\\users\\vatti\\appdata\\local\\programs\\python\\python37\\lib\\site-packages\\sklearn\\metrics\\classification.py:1143: UndefinedMetricWarning: Precision and F-score are ill-defined and being set to 0.0 in labels with no predicted samples.\n",
      "  'precision', 'predicted', average, warn_for)\n"
     ]
    }
   ],
   "source": [
    "mod = LogisticRegression()\n",
    "\n",
    "mod.fit(X_train, y_train)\n",
    "pred = mod.predict(X_test)\n",
    "\n",
    "print('Results;' + '\\n')\n",
    "print('Confusion Matrix;' + '\\n')\n",
    "print(confusion_matrix(y_test, pred))\n",
    "print('\\n' + 'Report;' + '\\n')\n",
    "print(classification_report(y_test, pred))\n",
    "\n",
    "acc = accuracy_score(y_test, pred)\n",
    "print('Accuracy: '+ str(acc)) "
   ]
  }
 ],
 "metadata": {
  "kernelspec": {
   "display_name": "Python 3",
   "language": "python",
   "name": "python3"
  },
  "language_info": {
   "codemirror_mode": {
    "name": "ipython",
    "version": 3
   },
   "file_extension": ".py",
   "mimetype": "text/x-python",
   "name": "python",
   "nbconvert_exporter": "python",
   "pygments_lexer": "ipython3",
   "version": "3.7.3"
  }
 },
 "nbformat": 4,
 "nbformat_minor": 2
}
