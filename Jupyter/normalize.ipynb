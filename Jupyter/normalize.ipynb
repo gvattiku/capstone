{
 "cells": [
  {
   "cell_type": "code",
   "execution_count": 2,
   "metadata": {},
   "outputs": [],
   "source": [
    "import pandas as pd\n",
    "import numpy as np\n",
    "import os\n",
    "\n",
    "def produceOneCSV(listOfFiles, fileOut):\n",
    "    resultObj = pd.concat([pd.read_csv(file) for file in listOfFiles], sort = True)\n",
    "    resultObj.to_csv(fileOut, index = False, encoding = \"utf-8\")"
   ]
  },
  {
   "cell_type": "code",
   "execution_count": 5,
   "metadata": {},
   "outputs": [],
   "source": [
    "ip = '/home/r00t/Work/capstone/Data/Input/'\n",
    "op = '/home/r00t/Work/capstone/Data/Output/'\n",
    "os.chdir(ip)\n",
    "\n",
    "listOfFiles = [file for file in os.listdir()]"
   ]
  },
  {
   "cell_type": "code",
   "execution_count": 7,
   "metadata": {
    "scrolled": false
   },
   "outputs": [],
   "source": [
    "for file in listOfFiles:\n",
    "    df = pd.read_csv(ip + file)\n",
    "    df.columns = [col.split(\"|\")[0] for col in df.columns]\n",
    "    df.columns = [col.split(\"[\")[0] for col in df.columns]\n",
    "    df.to_csv(op + 'clean' + file)"
   ]
  },
  {
   "cell_type": "code",
   "execution_count": 14,
   "metadata": {},
   "outputs": [],
   "source": [
    "os.chdir(op)\n",
    "\n",
    "files = [file for file in os.listdir()]\n",
    "\n",
    "for f in files:\n",
    "    df = pd.read_csv(f)"
   ]
  },
  {
   "cell_type": "code",
   "execution_count": 9,
   "metadata": {},
   "outputs": [],
   "source": [
    "df = df.replace(['Needs Grading', 'In Progress', np.nan], 0)\n",
    "df.to_csv('cleanFile.csv')"
   ]
  },
  {
   "cell_type": "code",
   "execution_count": 29,
   "metadata": {},
   "outputs": [],
   "source": [
    "fileOut = \"output.csv\"\n",
    "produceOneCSV(files, fileOut)"
   ]
  },
  {
   "cell_type": "code",
   "execution_count": 30,
   "metadata": {},
   "outputs": [],
   "source": [
    "final_df = pd.DataFrame()\n",
    "\n",
    "for file in files:\n",
    "    df = pd.read_csv(file)\n",
    "    df = pd.melt(df, id_vars=['Key'])\n",
    "    final_df = pd.concat((final_df, df), axis=0)"
   ]
  },
  {
   "cell_type": "code",
   "execution_count": 25,
   "metadata": {},
   "outputs": [],
   "source": [
    "#finalDf = final_df.drop_duplicates('Key')"
   ]
  },
  {
   "cell_type": "code",
   "execution_count": 26,
   "metadata": {},
   "outputs": [],
   "source": [
    "cleanDf = finalDf.pivot(index='Key', columns='variable', values='value')"
   ]
  },
  {
   "cell_type": "code",
   "execution_count": 27,
   "metadata": {},
   "outputs": [],
   "source": [
    "cleanDf.to_csv(op + 'fileOut.csv', index = False, encoding = \"utf-8\")"
   ]
  }
 ],
 "metadata": {
  "kernelspec": {
   "display_name": "Python 3",
   "language": "python",
   "name": "python3"
  },
  "language_info": {
   "codemirror_mode": {
    "name": "ipython",
    "version": 3
   },
   "file_extension": ".py",
   "mimetype": "text/x-python",
   "name": "python",
   "nbconvert_exporter": "python",
   "pygments_lexer": "ipython3",
   "version": "3.6.8"
  }
 },
 "nbformat": 4,
 "nbformat_minor": 2
}
