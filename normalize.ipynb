{
 "cells": [
  {
   "cell_type": "code",
   "execution_count": 1,
   "metadata": {},
   "outputs": [],
   "source": [
    "import pandas as pd\n",
    "import numpy as np\n",
    "import os\n",
    "\n",
    "def produceOneCSV(listOfFiles, fileOut):\n",
    "    resultObj = pd.concat([pd.read_csv(file) for file in listOfFiles], sort = True)\n",
    "    resultObj.to_csv(fileOut, index = False, encoding = \"utf-8\")"
   ]
  },
  {
   "cell_type": "code",
   "execution_count": 2,
   "metadata": {},
   "outputs": [],
   "source": [
    "csvFilePath = '/home/r00t/Work/capstone/Data/Output/'\n",
    "os.chdir(csvFilePath)\n",
    "\n",
    "listOfFiles = [file for file in os.listdir()]"
   ]
  },
  {
   "cell_type": "code",
   "execution_count": 3,
   "metadata": {
    "scrolled": false
   },
   "outputs": [],
   "source": [
    "for file in listOfFiles:\n",
    "    df = pd.read_csv(csvFilePath + file)\n",
    "    df.columns = [col.split(\"|\")[0] for col in df.columns]\n",
    "    df.columns = [col.split(\"[\")[0] for col in df.columns]\n",
    "    df.to_csv(csvFilePath + 'clean' + file)"
   ]
  },
  {
   "cell_type": "code",
   "execution_count": 4,
   "metadata": {},
   "outputs": [
    {
     "ename": "KeyError",
     "evalue": "\"None of [Index(['Key', 'Section Code'], dtype='object')] are in the [columns]\"",
     "output_type": "error",
     "traceback": [
      "\u001b[0;31m---------------------------------------------------------------------------\u001b[0m",
      "\u001b[0;31mKeyError\u001b[0m                                  Traceback (most recent call last)",
      "\u001b[0;32m<ipython-input-4-f4ac53b31021>\u001b[0m in \u001b[0;36m<module>\u001b[0;34m\u001b[0m\n\u001b[1;32m      4\u001b[0m \u001b[0;32mfor\u001b[0m \u001b[0mfile\u001b[0m \u001b[0;32min\u001b[0m \u001b[0mlistOfFiles\u001b[0m\u001b[0;34m:\u001b[0m\u001b[0;34m\u001b[0m\u001b[0;34m\u001b[0m\u001b[0m\n\u001b[1;32m      5\u001b[0m     \u001b[0mdf\u001b[0m \u001b[0;34m=\u001b[0m \u001b[0mpd\u001b[0m\u001b[0;34m.\u001b[0m\u001b[0mread_csv\u001b[0m\u001b[0;34m(\u001b[0m\u001b[0mcsvFilePath\u001b[0m \u001b[0;34m+\u001b[0m \u001b[0mfile\u001b[0m\u001b[0;34m)\u001b[0m\u001b[0;34m\u001b[0m\u001b[0;34m\u001b[0m\u001b[0m\n\u001b[0;32m----> 6\u001b[0;31m     \u001b[0mkey\u001b[0m\u001b[0;34m[\u001b[0m\u001b[0;34m[\u001b[0m\u001b[0;34m'Key'\u001b[0m\u001b[0;34m,\u001b[0m \u001b[0;34m'Section Code'\u001b[0m\u001b[0;34m]\u001b[0m\u001b[0;34m]\u001b[0m \u001b[0;34m=\u001b[0m \u001b[0mdf\u001b[0m\u001b[0;34m[\u001b[0m\u001b[0;34m[\u001b[0m\u001b[0;34m'Key'\u001b[0m\u001b[0;34m,\u001b[0m \u001b[0;34m'Section Code'\u001b[0m\u001b[0;34m]\u001b[0m\u001b[0;34m]\u001b[0m\u001b[0;34m\u001b[0m\u001b[0;34m\u001b[0m\u001b[0m\n\u001b[0m",
      "\u001b[0;32m~/.local/lib/python3.6/site-packages/pandas/core/frame.py\u001b[0m in \u001b[0;36m__getitem__\u001b[0;34m(self, key)\u001b[0m\n\u001b[1;32m   2999\u001b[0m             \u001b[0;32mif\u001b[0m \u001b[0mis_iterator\u001b[0m\u001b[0;34m(\u001b[0m\u001b[0mkey\u001b[0m\u001b[0;34m)\u001b[0m\u001b[0;34m:\u001b[0m\u001b[0;34m\u001b[0m\u001b[0;34m\u001b[0m\u001b[0m\n\u001b[1;32m   3000\u001b[0m                 \u001b[0mkey\u001b[0m \u001b[0;34m=\u001b[0m \u001b[0mlist\u001b[0m\u001b[0;34m(\u001b[0m\u001b[0mkey\u001b[0m\u001b[0;34m)\u001b[0m\u001b[0;34m\u001b[0m\u001b[0;34m\u001b[0m\u001b[0m\n\u001b[0;32m-> 3001\u001b[0;31m             \u001b[0mindexer\u001b[0m \u001b[0;34m=\u001b[0m \u001b[0mself\u001b[0m\u001b[0;34m.\u001b[0m\u001b[0mloc\u001b[0m\u001b[0;34m.\u001b[0m\u001b[0m_convert_to_indexer\u001b[0m\u001b[0;34m(\u001b[0m\u001b[0mkey\u001b[0m\u001b[0;34m,\u001b[0m \u001b[0maxis\u001b[0m\u001b[0;34m=\u001b[0m\u001b[0;36m1\u001b[0m\u001b[0;34m,\u001b[0m \u001b[0mraise_missing\u001b[0m\u001b[0;34m=\u001b[0m\u001b[0;32mTrue\u001b[0m\u001b[0;34m)\u001b[0m\u001b[0;34m\u001b[0m\u001b[0;34m\u001b[0m\u001b[0m\n\u001b[0m\u001b[1;32m   3002\u001b[0m \u001b[0;34m\u001b[0m\u001b[0m\n\u001b[1;32m   3003\u001b[0m         \u001b[0;31m# take() does not accept boolean indexers\u001b[0m\u001b[0;34m\u001b[0m\u001b[0;34m\u001b[0m\u001b[0;34m\u001b[0m\u001b[0m\n",
      "\u001b[0;32m~/.local/lib/python3.6/site-packages/pandas/core/indexing.py\u001b[0m in \u001b[0;36m_convert_to_indexer\u001b[0;34m(self, obj, axis, is_setter, raise_missing)\u001b[0m\n\u001b[1;32m   1283\u001b[0m                 \u001b[0;31m# When setting, missing keys are not allowed, even with .loc:\u001b[0m\u001b[0;34m\u001b[0m\u001b[0;34m\u001b[0m\u001b[0;34m\u001b[0m\u001b[0m\n\u001b[1;32m   1284\u001b[0m                 \u001b[0mkwargs\u001b[0m \u001b[0;34m=\u001b[0m \u001b[0;34m{\u001b[0m\u001b[0;34m\"raise_missing\"\u001b[0m\u001b[0;34m:\u001b[0m \u001b[0;32mTrue\u001b[0m \u001b[0;32mif\u001b[0m \u001b[0mis_setter\u001b[0m \u001b[0;32melse\u001b[0m \u001b[0mraise_missing\u001b[0m\u001b[0;34m}\u001b[0m\u001b[0;34m\u001b[0m\u001b[0;34m\u001b[0m\u001b[0m\n\u001b[0;32m-> 1285\u001b[0;31m                 \u001b[0;32mreturn\u001b[0m \u001b[0mself\u001b[0m\u001b[0;34m.\u001b[0m\u001b[0m_get_listlike_indexer\u001b[0m\u001b[0;34m(\u001b[0m\u001b[0mobj\u001b[0m\u001b[0;34m,\u001b[0m \u001b[0maxis\u001b[0m\u001b[0;34m,\u001b[0m \u001b[0;34m**\u001b[0m\u001b[0mkwargs\u001b[0m\u001b[0;34m)\u001b[0m\u001b[0;34m[\u001b[0m\u001b[0;36m1\u001b[0m\u001b[0;34m]\u001b[0m\u001b[0;34m\u001b[0m\u001b[0;34m\u001b[0m\u001b[0m\n\u001b[0m\u001b[1;32m   1286\u001b[0m         \u001b[0;32melse\u001b[0m\u001b[0;34m:\u001b[0m\u001b[0;34m\u001b[0m\u001b[0;34m\u001b[0m\u001b[0m\n\u001b[1;32m   1287\u001b[0m             \u001b[0;32mtry\u001b[0m\u001b[0;34m:\u001b[0m\u001b[0;34m\u001b[0m\u001b[0;34m\u001b[0m\u001b[0m\n",
      "\u001b[0;32m~/.local/lib/python3.6/site-packages/pandas/core/indexing.py\u001b[0m in \u001b[0;36m_get_listlike_indexer\u001b[0;34m(self, key, axis, raise_missing)\u001b[0m\n\u001b[1;32m   1090\u001b[0m \u001b[0;34m\u001b[0m\u001b[0m\n\u001b[1;32m   1091\u001b[0m         self._validate_read_indexer(\n\u001b[0;32m-> 1092\u001b[0;31m             \u001b[0mkeyarr\u001b[0m\u001b[0;34m,\u001b[0m \u001b[0mindexer\u001b[0m\u001b[0;34m,\u001b[0m \u001b[0mo\u001b[0m\u001b[0;34m.\u001b[0m\u001b[0m_get_axis_number\u001b[0m\u001b[0;34m(\u001b[0m\u001b[0maxis\u001b[0m\u001b[0;34m)\u001b[0m\u001b[0;34m,\u001b[0m \u001b[0mraise_missing\u001b[0m\u001b[0;34m=\u001b[0m\u001b[0mraise_missing\u001b[0m\u001b[0;34m\u001b[0m\u001b[0;34m\u001b[0m\u001b[0m\n\u001b[0m\u001b[1;32m   1093\u001b[0m         )\n\u001b[1;32m   1094\u001b[0m         \u001b[0;32mreturn\u001b[0m \u001b[0mkeyarr\u001b[0m\u001b[0;34m,\u001b[0m \u001b[0mindexer\u001b[0m\u001b[0;34m\u001b[0m\u001b[0;34m\u001b[0m\u001b[0m\n",
      "\u001b[0;32m~/.local/lib/python3.6/site-packages/pandas/core/indexing.py\u001b[0m in \u001b[0;36m_validate_read_indexer\u001b[0;34m(self, key, indexer, axis, raise_missing)\u001b[0m\n\u001b[1;32m   1175\u001b[0m                 raise KeyError(\n\u001b[1;32m   1176\u001b[0m                     \"None of [{key}] are in the [{axis}]\".format(\n\u001b[0;32m-> 1177\u001b[0;31m                         \u001b[0mkey\u001b[0m\u001b[0;34m=\u001b[0m\u001b[0mkey\u001b[0m\u001b[0;34m,\u001b[0m \u001b[0maxis\u001b[0m\u001b[0;34m=\u001b[0m\u001b[0mself\u001b[0m\u001b[0;34m.\u001b[0m\u001b[0mobj\u001b[0m\u001b[0;34m.\u001b[0m\u001b[0m_get_axis_name\u001b[0m\u001b[0;34m(\u001b[0m\u001b[0maxis\u001b[0m\u001b[0;34m)\u001b[0m\u001b[0;34m\u001b[0m\u001b[0;34m\u001b[0m\u001b[0m\n\u001b[0m\u001b[1;32m   1178\u001b[0m                     )\n\u001b[1;32m   1179\u001b[0m                 )\n",
      "\u001b[0;31mKeyError\u001b[0m: \"None of [Index(['Key', 'Section Code'], dtype='object')] are in the [columns]\""
     ]
    }
   ],
   "source": [
    "col = ['Key', 'Section Code']\n",
    "key = pd.DataFrame(columns = col)\n",
    "\n",
    "for file in listOfFiles:\n",
    "    df = pd.read_csv(csvFilePath + file)\n",
    "    key[['Key', 'Section Code']] = df[['Key', 'Section Code']]"
   ]
  },
  {
   "cell_type": "code",
   "execution_count": 18,
   "metadata": {},
   "outputs": [],
   "source": [
    "fileOut = \"output.csv\"\n",
    "produceOneCSV(listOfFiles, fileOut)\n",
    "\n",
    "df = pd.read_csv('output.csv')"
   ]
  },
  {
   "cell_type": "code",
   "execution_count": 19,
   "metadata": {},
   "outputs": [],
   "source": [
    "df = df.replace(['Needs Grading', 'In Progress', np.nan], 0)\n",
    "df.to_csv('cleanFile.csv')"
   ]
  },
  {
   "cell_type": "code",
   "execution_count": 39,
   "metadata": {},
   "outputs": [],
   "source": [
    "final_df = pd.DataFrame()\n",
    "for file in listOfFiles:\n",
    "    df = pd.read_csv(file)\n",
    "    df = pd.melt(df, id_vars=['Key'])\n",
    "    final_df = pd.concat((final_df, df), axis=0)"
   ]
  },
  {
   "cell_type": "code",
   "execution_count": 55,
   "metadata": {},
   "outputs": [],
   "source": [
    "cleanDf = final_df.pivot(index='Key', columns='variable', values='value')"
   ]
  },
  {
   "cell_type": "code",
   "execution_count": 57,
   "metadata": {},
   "outputs": [],
   "source": [
    "cleanDf.to_csv('/home/r00t/Work/capstone/Data/Output/fileOut.csv', index = False, encoding = \"utf-8\")"
   ]
  },
  {
   "cell_type": "code",
   "execution_count": 61,
   "metadata": {},
   "outputs": [
    {
     "name": "stdout",
     "output_type": "stream",
     "text": [
      "['4/4 Topic and Outline ', '5/1 Submit 5-minute Powerpoint ', 'Assignment Confirm Syllabus ', 'Attendance ', 'Average HWs ', 'Average Quizzes ', 'Average Weekly HWs ', 'Bonus Attendance / Presentation ', 'Bonus Total ', 'Class Participation ', 'Class Participation Extra Credit (up to 2%) ', 'ClassParticipation ', 'Corrected HW3 Re-submission ', 'Course Feedback ', 'Course Grade (with Extra Credit and Bonus Total) ', 'Course Grade (with Extra-Credit and Bonus) ', 'Course Grade (with no Extra Credit and no Bonuses) ', 'Course Grade (with no Extra Credit) ', 'Current Grade ( Does NOT Include Extra Credit) ', 'Extra Credit  - Research Presentation ', 'Extra Credit - Class Participation ', 'Extra Credit Presentation (up to 2%) ', 'Extra Credit Presentation Submission ', 'Extra Credit Quiz v1 ODS, part 2 ', 'Extra Credit Quiz v1, part 1 ', 'Extra Credit Quiz v1, part 2 ', 'Extra Credit Quiz v2, part 1 ', 'Extra Credit Quiz v2, part 2 ', 'Extra Credit Quiz vODS, part 1 ', 'Extra Credit Quizzes Total ', 'Extra Credit Total ', 'ExtraCredit#1 ', 'ExtraCredit#2 ', 'ExtraCredit#3 ', 'FINALGRADE ', 'Homework Assignment 1 ', 'Homework Assignment 1 Submission ', 'Homework Assignment 10 ', 'Homework Assignment 10 Submission ', 'Homework Assignment 2 ', 'Homework Assignment 2 Submission ', 'Homework Assignment 3 ', 'Homework Assignment 3 Submission ', 'Homework Assignment 4 ', 'Homework Assignment 4 Submission ', 'Homework Assignment 5 ', 'Homework Assignment 5 Submission ', 'Homework Assignment 6 ', 'Homework Assignment 6 Submission ', 'Homework Assignment 7 ', 'Homework Assignment 7 Submission ', 'Homework Assignment 8 ', 'Homework Assignment 8 Submission ', 'Homework Assignment 9 ', 'Homework Assignment 9 Submission ', 'IT 214 Final Exam ', 'IT 214 Final Exam- Requires Respondus LockDown Browser ', 'IT 214 Practice Test ', 'IT 214 Survey ', 'IT 214 Test 1, Part 1- Requires Respondus LockDown Browser ', 'IT 214 Test 1, Part 2- Requires Respondus LockDown Browser ', 'IT 214 Test 1: Total (out of 100) ', 'IT 214 Test 2 ', 'IT 214 Test 2- Requires Respondus LockDown Browser ', 'IT 214 Test 2-Paper copy ', 'IT214 Final Exam- Requires Respondus LockDown Browser ', 'IT214 T1: Total (out of 100) ', 'IT214 Test 1, Part 1- Requires Respondus LockDown Browser ', 'IT214 Test 2- Requires Respondus LockDown Browser ', 'Lab 4 Submission ', 'Midterm Grades ', 'Midterm: Av_HWs ', 'Midterm: Av_Quizzes ', 'Midterms ', 'Optional Extra Credit Submission ', 'PopQuiz1 ', 'Practice Exam 2 ', 'Practice Final Exam ', 'Practice Test Bonus (0.1) ', 'Practice Test _ Exam 2 ', 'Pre-Research Assignment Survey ', 'Pre-Research Assignment Survey Bonus (0.1) ', 'Project Assignment 1:  Research skills in everyday life (0.2) ', 'Project Assignment 1:  Research skills in everyday life (0.4) ', 'Project Assignment 2:  Selected research topic (0.2) ', 'Project Assignment 2:  Selected research topic (0.4) ', 'Project Assignment 3:  Selected sources of information (0.2) ', 'Project Assignment 3:  Selected sources of information (0.4) ', 'Project Assignment 4:  Identify a research question answered by one of the sources (0.2) ', 'Project Assignment 4:  Identify a research question answered by one of the sources (0.5) ', 'Project Assignment 5:  Select additional sources relevant to your research question (0.2) ', 'Project Assignment 5:  Select additional sources relevant to your research question (0.5) ', 'Project Assignment 6:  How the sources answered the research question? (0.5) ', 'Project Draft ', 'Project Draft (Part 1) ', 'Project I - Draft ', 'Project Part I Draft - Submission ', 'Project Topic Selection ', 'Project: Part 1 SafeAssign Submission ', 'Project: Part 1 Submission (SafeAssign) ', 'Project: Part II Submission ', 'Project: Total ', 'Quiz 1 ', 'Quiz 1: After Class ', 'Quiz 1: After Class Bonus (0.1) ', 'Quiz 1: Before Class ', 'Quiz 1: Before Class Bonus (0.1) ', 'Quiz 2 ', 'Quiz 2: After Class ', 'Quiz 2: After Class Bonus (0.1) ', 'Quiz 2: Before Class ', 'Quiz 2: Before Class Bonus (0.1) ', 'Quiz 3 ', 'Quiz 3: After Class ', 'Quiz 3: After Class Bonus (0.1) ', 'Quiz 3: Before Class ', 'Quiz 3: Before Class Bonus (0.1) ', 'Quiz 4 ', 'Quiz 4: After Class ', 'Quiz 4: After Class Bonus (0.1) ', 'Quiz 4: Before Class ', 'Quiz 4: Before Class Bonus (0.1) ', 'Quiz 5 ', 'Quiz 5: After Class ', 'Quiz 5: After Class Bonus (0.1) ', 'Quiz 5: Before Class ', 'Quiz 5: Before Class Bonus (0.1) ', 'Research - Extra Credit ', 'Research Assignment 1 - Test ', 'Research Assignment 2 - Test ', 'Research Assignment 3 - Test ', 'Research Assignments Bonus Total ', 'Research Presentation ', 'Research Test 1 Bonus (0.1) ', 'Research Test 2 Bonus (0.1) ', 'Research Test 3 Bonus (0.1) ', 'Research Topic and Outline ', 'Section Code', 'Software installation ', 'Step III. Confirm Software Installation (0.1) ', 'Step IV. Confirm Software Installation (0.1) ', 'Submit Lab 1 Output Here ', 'Submit Lab 2 Output Here ', 'Submit Lab 3 Output Here ', 'Total ', 'Total Bonus ', 'Total Research Project Bonus ', 'Unnamed: 0', 'Unnamed: 0.1', 'Week 1 Practice Problems Submission ', 'Week 10 Practice Problems Submission ', 'Week 12 Practice Problems Submission ', 'Week 13 Practice Problems Submission ', 'Week 2 Practice Problems Submission ', 'Week 3 Practice Problems Submission ', 'Week 4 Practice Problems Submission ', 'Week 5 Practice Problems Submission ', 'Week 7 Practice Problems Submission ', 'Week 8 Practice Problems Submission ', 'Week 9 Practice Problems Submission ', 'Weighted Total ', 'extra_credit_1 ', 'extra_credit_2 ']\n"
     ]
    }
   ],
   "source": [
    "print(list(cleanDf.columns))"
   ]
  },
  {
   "cell_type": "code",
   "execution_count": null,
   "metadata": {},
   "outputs": [],
   "source": []
  }
 ],
 "metadata": {
  "kernelspec": {
   "display_name": "Python 3",
   "language": "python",
   "name": "python3"
  },
  "language_info": {
   "codemirror_mode": {
    "name": "ipython",
    "version": 3
   },
   "file_extension": ".py",
   "mimetype": "text/x-python",
   "name": "python",
   "nbconvert_exporter": "python",
   "pygments_lexer": "ipython3",
   "version": "3.6.8"
  }
 },
 "nbformat": 4,
 "nbformat_minor": 2
}
